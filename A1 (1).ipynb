{
 "cells": [
  {
   "cell_type": "markdown",
   "id": "4d2010eb",
   "metadata": {},
   "source": [
    "# Posterior follows beta distribution. Data comes from simulations from three binomial distributions with distinct thetas.\n",
    "# Priors are assumed to follow Beta(1,1) or Uniform distributions so that the assumptions of priors are not too subjective. \n",
    "# In other word, we assume that we don't know much about the initial information contained by priors.\n",
    "# I will try out choices of theta_a, theta_b, theta_c and set them equal to 0.2,0.4,0.6. \n",
    "# I will choose among the three choices by finding which one can achieve dominating largest posteriors. \n",
    "# In order to balance exploration VS exploitation, we need to find out which choice of theta can attain relatively large posterior and we hope to keep updating it instead of trying for all three thetas. "
   ]
  },
  {
   "cell_type": "code",
   "execution_count": 91,
   "id": "4c581018",
   "metadata": {},
   "outputs": [],
   "source": [
    "import numpy as np \n",
    "from scipy import stats\n",
    "# Set theta a, theta b, theta c\n",
    "theta_a = 0.2\n",
    "theta_b = 0.4\n",
    "theta_c = 0.6\n",
    "# Assume that all the priors follow certain Beta distributions/simply uniform distributions. \n",
    "# we don't want to assume too much for the initial priors/ limit initial information \n",
    "alpha_a = 1\n",
    "alpha_b = 1\n",
    "alpha_c = 1\n",
    "beta_a = 1\n",
    "beta_b = 1\n",
    "beta_c = 1    "
   ]
  },
  {
   "cell_type": "code",
   "execution_count": 92,
   "id": "275458b0",
   "metadata": {},
   "outputs": [],
   "source": [
    "# Set up counter for number of games/trails played by theta a,b,and c \n",
    "counter_a = 0\n",
    "counter_b = 0\n",
    "counter_c = 0\n",
    "# Simulate data from beta distributions since posterior from Beta-Binomial model follows Beta distribution\n",
    "posterior_a = stats.beta(a = alpha_a, b = beta_a).rvs(size = 1)[0]\n",
    "posterior_b = stats.beta(a = alpha_b, b = beta_b).rvs(size = 1)[0]\n",
    "posterior_c = stats.beta(a = alpha_c, b = beta_c).rvs(size = 1)[0]\n",
    "# Develop a posterior update mechanism with parameters alpha, beta, output taking values from 0 and 1, \n",
    "# and n recording total number of trails.\n",
    "# The output comes from bernoulli trails. Denote 1 as success and 0 as failure. \n",
    "def posterior_update(alpha,beta,output,n):\n",
    "    if output == 1: # A success\n",
    "        return alpha + 1, n - 1 + beta # x stands for number of successes and n stands for total number of trials. \n",
    "    #Thus, when there is a success, alpha is updated to alpha + 1 and beta is updated t0 n - 1 + beta. \n",
    "    else: # A failure\n",
    "        return alpha, beta + n # Formula from Beta-binomial model in the lecture. \n",
    "    # Thus, when there is a failure, alpha stays the same and beta is updated t0 n + beta. "
   ]
  },
  {
   "cell_type": "code",
   "execution_count": 93,
   "id": "f72d7c85",
   "metadata": {},
   "outputs": [
    {
     "name": "stdout",
     "output_type": "stream",
     "text": [
      "7 7 486\n"
     ]
    }
   ],
   "source": [
    "for i in range(500):\n",
    "    max_posterior = np.argmax([posterior_a,posterior_b,posterior_c]) # Find out the largest posterior \n",
    "    # among posteriors from theta a, b, and c. \n",
    "    if max_posterior == 0: # imply that posterior from beta a is the largest\n",
    "        alpha_a,beta_a = posterior_update(alpha_a,beta_a,output=stats.binom(n = 1,p = theta_a).rvs(size = 1)[0],n=i)\n",
    "        posterior_a = stats.beta(a = alpha_a, b = beta_a).rvs(size = 1)[0] # update posterior using new alphas and betas. \n",
    "        counter_a = counter_a + 1 \n",
    "    elif max_posterior == 1: # imply that posterior from beta b is the largest\n",
    "        alpha_b,beta_b = posterior_update(alpha_b,beta_b,output=stats.binom(n = 1,p = theta_b).rvs(size = 1)[0],n=i)\n",
    "        posterior_b = stats.beta(a = alpha_b, b = beta_b).rvs(size = 1)[0]\n",
    "        counter_b = counter_b + 1\n",
    "    else: # imply that posterior from beta c is the largest\n",
    "        alpha_c,beta_c = posterior_update(alpha_c,beta_c,output=stats.binom(n = 1,p = theta_c).rvs(size = 1)[0],n=i)\n",
    "        posterior_c = stats.beta(a = alpha_c, b = beta_c).rvs(size = 1)[0]\n",
    "        counter_c = counter_c + 1\n",
    "print(counter_a,counter_b,counter_c)"
   ]
  },
  {
   "cell_type": "markdown",
   "id": "d943ea54",
   "metadata": {},
   "source": [
    "# The result indicates that theta c is favored by the choosing mechanism since theta c is run significantly more than theta a and theta b from 500 replications. "
   ]
  }
 ],
 "metadata": {
  "kernelspec": {
   "display_name": "Python 3 (ipykernel)",
   "language": "python",
   "name": "python3"
  },
  "language_info": {
   "codemirror_mode": {
    "name": "ipython",
    "version": 3
   },
   "file_extension": ".py",
   "mimetype": "text/x-python",
   "name": "python",
   "nbconvert_exporter": "python",
   "pygments_lexer": "ipython3",
   "version": "3.11.6"
  }
 },
 "nbformat": 4,
 "nbformat_minor": 5
}
